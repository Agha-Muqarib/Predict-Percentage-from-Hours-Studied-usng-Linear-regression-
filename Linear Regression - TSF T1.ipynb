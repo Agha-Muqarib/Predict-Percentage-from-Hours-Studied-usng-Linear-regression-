{
 "cells": [
  {
   "cell_type": "markdown",
   "id": "20d81c92",
   "metadata": {},
   "source": [
    "# GRIP July 2022 - Data Science Intern"
   ]
  },
  {
   "cell_type": "markdown",
   "id": "39263e79",
   "metadata": {},
   "source": [
    "## Name: Agha Muqarib"
   ]
  },
  {
   "cell_type": "markdown",
   "id": "e82ffe32",
   "metadata": {},
   "source": [
    "Task 01 - Linear Regression - Predicting Percentage of a student based on the no. of study hours"
   ]
  },
  {
   "cell_type": "markdown",
   "id": "e83be49a",
   "metadata": {},
   "source": [
    "======================================================================================================"
   ]
  },
  {
   "cell_type": "markdown",
   "id": "5f924d6c",
   "metadata": {},
   "source": [
    "### Installing Dependencies "
   ]
  },
  {
   "cell_type": "code",
   "execution_count": 129,
   "id": "08543715",
   "metadata": {},
   "outputs": [
    {
     "name": "stdout",
     "output_type": "stream",
     "text": [
      "Requirement already satisfied: scikit-learn in c:\\users\\theengineerguyy\\anaconda3\\lib\\site-packages (0.24.1)Note: you may need to restart the kernel to use updated packages.\n",
      "Requirement already satisfied: scipy>=0.19.1 in c:\\users\\theengineerguyy\\anaconda3\\lib\\site-packages (from scikit-learn) (1.6.2)\n",
      "Requirement already satisfied: joblib>=0.11 in c:\\users\\theengineerguyy\\anaconda3\\lib\\site-packages (from scikit-learn) (1.0.1)\n",
      "Requirement already satisfied: threadpoolctl>=2.0.0 in c:\\users\\theengineerguyy\\anaconda3\\lib\\site-packages (from scikit-learn) (2.1.0)\n",
      "\n",
      "Requirement already satisfied: numpy>=1.13.3 in c:\\users\\theengineerguyy\\anaconda3\\lib\\site-packages (from scikit-learn) (1.20.1)\n"
     ]
    }
   ],
   "source": [
    "pip install scikit-learn"
   ]
  },
  {
   "cell_type": "markdown",
   "id": "7d5ba2b6",
   "metadata": {},
   "source": [
    "### Importing Dependencies"
   ]
  },
  {
   "cell_type": "code",
   "execution_count": 92,
   "id": "03d5a3e2",
   "metadata": {},
   "outputs": [],
   "source": [
    "import numpy as np\n",
    "from sklearn.linear_model import LinearRegression\n",
    "import pandas as pd\n",
    "import matplotlib.pyplot as plt"
   ]
  },
  {
   "cell_type": "markdown",
   "id": "cb211133",
   "metadata": {},
   "source": [
    "### Importing dataset via url"
   ]
  },
  {
   "cell_type": "code",
   "execution_count": 18,
   "id": "1c09a89d",
   "metadata": {},
   "outputs": [
    {
     "name": "stdout",
     "output_type": "stream",
     "text": [
      "Printing Dataset: \n",
      "\n",
      "     Hours  Scores\n",
      "0     2.5      21\n",
      "1     5.1      47\n",
      "2     3.2      27\n",
      "3     8.5      75\n",
      "4     3.5      30\n",
      "5     1.5      20\n",
      "6     9.2      88\n",
      "7     5.5      60\n",
      "8     8.3      81\n",
      "9     2.7      25\n",
      "10    7.7      85\n",
      "11    5.9      62\n",
      "12    4.5      41\n",
      "13    3.3      42\n",
      "14    1.1      17\n",
      "15    8.9      95\n",
      "16    2.5      30\n",
      "17    1.9      24\n",
      "18    6.1      67\n",
      "19    7.4      69\n",
      "20    2.7      30\n",
      "21    4.8      54\n",
      "22    3.8      35\n",
      "23    6.9      76\n",
      "24    7.8      86\n"
     ]
    }
   ],
   "source": [
    "url = \"http://bit.ly/w-data\"\n",
    "dataset = pd.read_csv(url)\n",
    "print(\"Printing Dataset:\",\"\\n\\n\", dataset)"
   ]
  },
  {
   "cell_type": "markdown",
   "id": "c71eed9c",
   "metadata": {},
   "source": [
    "### Splitting Hours & Scores from Dataset"
   ]
  },
  {
   "cell_type": "code",
   "execution_count": 28,
   "id": "541df221",
   "metadata": {},
   "outputs": [
    {
     "name": "stdout",
     "output_type": "stream",
     "text": [
      "0     2.5\n",
      "1     5.1\n",
      "2     3.2\n",
      "3     8.5\n",
      "4     3.5\n",
      "5     1.5\n",
      "6     9.2\n",
      "7     5.5\n",
      "8     8.3\n",
      "9     2.7\n",
      "10    7.7\n",
      "11    5.9\n",
      "12    4.5\n",
      "13    3.3\n",
      "14    1.1\n",
      "15    8.9\n",
      "16    2.5\n",
      "17    1.9\n",
      "18    6.1\n",
      "19    7.4\n",
      "20    2.7\n",
      "21    4.8\n",
      "22    3.8\n",
      "23    6.9\n",
      "24    7.8\n",
      "Name: Hours, dtype: float64\n"
     ]
    }
   ],
   "source": [
    "noOfHours = dataset[\"Hours\"]\n",
    "scores = dataset[\"Scores\"]\n",
    "print(noOfHours)\n"
   ]
  },
  {
   "cell_type": "code",
   "execution_count": 89,
   "id": "34a8cd99",
   "metadata": {},
   "outputs": [
    {
     "name": "stdout",
     "output_type": "stream",
     "text": [
      "Scores:\n",
      "\n",
      "0     21\n",
      "1     47\n",
      "2     27\n",
      "3     75\n",
      "4     30\n",
      "5     20\n",
      "6     88\n",
      "7     60\n",
      "8     81\n",
      "9     25\n",
      "10    85\n",
      "11    62\n",
      "12    41\n",
      "13    42\n",
      "14    17\n",
      "15    95\n",
      "16    30\n",
      "17    24\n",
      "18    67\n",
      "19    69\n",
      "20    30\n",
      "21    54\n",
      "22    35\n",
      "23    76\n",
      "24    86\n",
      "Name: Scores, dtype: int64\n"
     ]
    }
   ],
   "source": [
    "print(\"Scores:\\n\")\n",
    "print(scores)"
   ]
  },
  {
   "cell_type": "code",
   "execution_count": 108,
   "id": "ef840b7b",
   "metadata": {},
   "outputs": [],
   "source": [
    "x = np.array(noOfHours).reshape((-1,1))\n",
    "y = np.array(scores)"
   ]
  },
  {
   "cell_type": "markdown",
   "id": "180ad81f",
   "metadata": {},
   "source": [
    "### Printing reshaped data values"
   ]
  },
  {
   "cell_type": "code",
   "execution_count": 114,
   "id": "8bc1e17e",
   "metadata": {},
   "outputs": [
    {
     "name": "stdout",
     "output_type": "stream",
     "text": [
      "Hours after reshaping: (25, 1)\n",
      "Score after reshaping: (25,)\n"
     ]
    }
   ],
   "source": [
    "print(\"Hours after reshaping:\", x.shape)\n",
    "print(\"Score after reshaping:\", y.shape)"
   ]
  },
  {
   "cell_type": "markdown",
   "id": "0cd7e79f",
   "metadata": {},
   "source": [
    "### Calling Model"
   ]
  },
  {
   "cell_type": "code",
   "execution_count": 44,
   "id": "1a4d79e5",
   "metadata": {},
   "outputs": [],
   "source": [
    "model = LinearRegression()"
   ]
  },
  {
   "cell_type": "code",
   "execution_count": 45,
   "id": "429a5ef1",
   "metadata": {},
   "outputs": [
    {
     "data": {
      "text/plain": [
       "LinearRegression()"
      ]
     },
     "execution_count": 45,
     "metadata": {},
     "output_type": "execute_result"
    }
   ],
   "source": [
    "model.fit(x,y)"
   ]
  },
  {
   "cell_type": "markdown",
   "id": "fd3f8dec",
   "metadata": {},
   "source": [
    "For linear regression\n",
    "\n",
    "y = f(x) + B\n",
    "\n",
    "f(x) = b0 + b1 * x"
   ]
  },
  {
   "cell_type": "markdown",
   "id": "e4c16ffd",
   "metadata": {},
   "source": [
    "### Getting b0  - the intercept "
   ]
  },
  {
   "cell_type": "code",
   "execution_count": 117,
   "id": "dbf94fd8",
   "metadata": {},
   "outputs": [
    {
     "name": "stdout",
     "output_type": "stream",
     "text": [
      "b0 =  2.483673405373196\n"
     ]
    }
   ],
   "source": [
    "b0 = model.intercept_\n",
    "print(\"b0 = \", b0)"
   ]
  },
  {
   "cell_type": "markdown",
   "id": "1b42e3aa",
   "metadata": {},
   "source": [
    "### Getting b1 - the coefficient"
   ]
  },
  {
   "cell_type": "code",
   "execution_count": 126,
   "id": "d89ad007",
   "metadata": {},
   "outputs": [
    {
     "name": "stdout",
     "output_type": "stream",
     "text": [
      " b1 = [9.77580339]\n"
     ]
    }
   ],
   "source": [
    "b1 = model.coef_\n",
    "print(\" b1 = {0}\".format(b1))"
   ]
  },
  {
   "cell_type": "markdown",
   "id": "2d1601ca",
   "metadata": {},
   "source": [
    "### Getting Predictions"
   ]
  },
  {
   "cell_type": "code",
   "execution_count": 57,
   "id": "775fa020",
   "metadata": {},
   "outputs": [
    {
     "name": "stdout",
     "output_type": "stream",
     "text": [
      "[26.92318188 52.3402707  33.76624426 85.57800223 36.69898527 17.14737849\n",
      " 92.4210646  56.25059205 83.62284155 28.87834256 77.75735951 60.16091341\n",
      " 46.47478866 34.74382459 13.23705714 89.48832358 26.92318188 21.05769985\n",
      " 62.11607409 74.8246185  28.87834256 49.40752968 39.63172629 69.9367168\n",
      " 78.73493985]\n"
     ]
    }
   ],
   "source": [
    "y_pred = model.predict(x)\n",
    "print(y_pred)"
   ]
  },
  {
   "cell_type": "markdown",
   "id": "f222054d",
   "metadata": {},
   "source": [
    "### Alternatively,  From linear regression equation"
   ]
  },
  {
   "cell_type": "code",
   "execution_count": 128,
   "id": "25aa0ef1",
   "metadata": {},
   "outputs": [
    {
     "data": {
      "text/plain": [
       "array([[26.92318188],\n",
       "       [52.3402707 ],\n",
       "       [33.76624426],\n",
       "       [85.57800223],\n",
       "       [36.69898527],\n",
       "       [17.14737849],\n",
       "       [92.4210646 ],\n",
       "       [56.25059205],\n",
       "       [83.62284155],\n",
       "       [28.87834256],\n",
       "       [77.75735951],\n",
       "       [60.16091341],\n",
       "       [46.47478866],\n",
       "       [34.74382459],\n",
       "       [13.23705714],\n",
       "       [89.48832358],\n",
       "       [26.92318188],\n",
       "       [21.05769985],\n",
       "       [62.11607409],\n",
       "       [74.8246185 ],\n",
       "       [28.87834256],\n",
       "       [49.40752968],\n",
       "       [39.63172629],\n",
       "       [69.9367168 ],\n",
       "       [78.73493985]])"
      ]
     },
     "execution_count": 128,
     "metadata": {},
     "output_type": "execute_result"
    }
   ],
   "source": [
    "\n",
    "\"\"\" f(x) = b0 + b1 * x \n",
    "    f(x) = model.intercept_ + model.coeff_\n",
    "\"\"\"\n",
    "\n",
    "b0 + b1 * x"
   ]
  },
  {
   "cell_type": "markdown",
   "id": "702d41ad",
   "metadata": {},
   "source": [
    "### Predicted Score when No of Hours = 9.25"
   ]
  },
  {
   "cell_type": "code",
   "execution_count": 81,
   "id": "39a7e739",
   "metadata": {},
   "outputs": [
    {
     "name": "stdout",
     "output_type": "stream",
     "text": [
      "The score if a student studies for [9.25]  hours per day is predicted to be [92.90985477]\n"
     ]
    }
   ],
   "source": [
    "xTest = np.array(9.25).reshape((-1,1))\n",
    "y_new = model.predict(xTest)\n",
    "print(\"The score if a student studies for\", xTest[0] ,\" hours per day is predicted to be\",y_new)"
   ]
  },
  {
   "cell_type": "markdown",
   "id": "f6a99a09",
   "metadata": {},
   "source": [
    "### Getting Coefficient of Determination"
   ]
  },
  {
   "cell_type": "code",
   "execution_count": 52,
   "id": "9f18b19b",
   "metadata": {},
   "outputs": [
    {
     "name": "stdout",
     "output_type": "stream",
     "text": [
      "0.9529481969048356\n"
     ]
    }
   ],
   "source": [
    "rSquareVal = model.score(x, y)\n",
    "print(rSquareVal)"
   ]
  },
  {
   "cell_type": "markdown",
   "id": "1c4ef0c8",
   "metadata": {},
   "source": [
    "### Plotting Scores w.r.t hours"
   ]
  },
  {
   "cell_type": "code",
   "execution_count": 107,
   "id": "a6d76f9c",
   "metadata": {},
   "outputs": [
    {
     "data": {
      "image/png": "[encoded data removed]",
      "text/plain": [
       "<Figure size 432x288 with 1 Axes>"
      ]
     },
     "metadata": {
      "needs_background": "light"
     },
     "output_type": "display_data"
    }
   ],
   "source": [
    "dataset.plot(x='Hours', y='Scores', style='o') \n",
    "\n",
    "plt.title('No. of Hours vs Percentage')  \n",
    "plt.xlabel('Hours Studied')  \n",
    "plt.ylabel('Percentage Score')  \n",
    "plt.scatter(x, y)\n",
    "line = model.intercept_ + model.coef_ * x\n",
    "plt.plot(x, line);\n",
    "plt.show()"
   ]
  }
 ],
 "metadata": {
  "kernelspec": {
   "display_name": "Python 3",
   "language": "python",
   "name": "python3"
  },
  "language_info": {
   "codemirror_mode": {
    "name": "ipython",
    "version": 3
   },
   "file_extension": ".py",
   "mimetype": "text/x-python",
   "name": "python",
   "nbconvert_exporter": "python",
   "pygments_lexer": "ipython3",
   "version": "3.8.8"
  }
 },
 "nbformat": 4,
 "nbformat_minor": 5
}
